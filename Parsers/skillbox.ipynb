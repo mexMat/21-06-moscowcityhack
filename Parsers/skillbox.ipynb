{
 "cells": [
  {
   "cell_type": "markdown",
   "metadata": {},
   "source": [
    "# Парсинг skillbox"
   ]
  },
  {
   "cell_type": "code",
   "execution_count": 12,
   "metadata": {},
   "outputs": [],
   "source": [
    "import pandas as pd\n",
    "import requests\n",
    "import json\n",
    "import re\n",
    "import matplotlib\n",
    "import matplotlib.pyplot as plt\n",
    "import numpy as np\n",
    "import math\n",
    "\n",
    "from IPython.display import clear_output\n",
    "from bs4 import BeautifulSoup\n",
    "from time import sleep"
   ]
  },
  {
   "cell_type": "code",
   "execution_count": 13,
   "metadata": {},
   "outputs": [],
   "source": [
    "HOST   = 'https://hh.ru'\n",
    "FILTER = '/search/vacancy?st=searchVacancy&text=&specialization=1.89&specialization=1.221&specialization=1.82&specialization=1.110&specialization=1.25&specialization=1.270&specialization=1.10&specialization=1.9&salary=&currency_code=RUR&experience=doesNotMatter&employment=full&order_by=relevance&search_period=0&items_on_page=100&no_magic=true&L_save_area=true'\n",
    "\n",
    "HEADERS = requests.utils.default_headers()\n",
    "HEADERS.update({'user-agent':'Mozilla/5.0 (X11; Linux x86_64) AppleWebKit/537.36 (KHTML, like Gecko) Chrome/91.0.4472.101 Safari/537.36',\n",
    "                'accept':'*/*'})\n",
    "GLOBAL_SUM = 1"
   ]
  },
  {
   "cell_type": "markdown",
   "metadata": {},
   "source": [
    "## Функция get_html_page возвращает html документ, по данному URL"
   ]
  },
  {
   "cell_type": "code",
   "execution_count": 14,
   "metadata": {},
   "outputs": [],
   "source": [
    "def get_html_page(url, n_attempts=5, t_sleep=1):\n",
    "    \n",
    "    while n_attempts:\n",
    "        try:\n",
    "            r = requests.get(url, headers=HEADERS)\n",
    "            \n",
    "            if r.status_code != 200:\n",
    "                return None\n",
    "            \n",
    "            html = r.text\n",
    "            r.close()\n",
    "            break\n",
    "        \n",
    "        except requests.exceptions.RequestException as e:\n",
    "            n_attempts -= 1\n",
    "            print(f'Sleep for {t_sleep} sec; {n_attempts} left')\n",
    "            \n",
    "            sleep(t_sleep)\n",
    "            continue\n",
    "            \n",
    "    return html"
   ]
  },
  {
   "cell_type": "markdown",
   "metadata": {},
   "source": [
    "## Функция cleaner производит очистку текста от ненужных символов"
   ]
  },
  {
   "cell_type": "code",
   "execution_count": 15,
   "metadata": {},
   "outputs": [],
   "source": [
    "def cleaner(string):\n",
    "    string = re.sub('\\n+|\\t+|\\r+', '', string)\n",
    "    while string[0] in ' ,.':\n",
    "        string = string[1:]\n",
    "    \n",
    "    while string[-1] == ' ':\n",
    "        string = string[:-1]\n",
    "    \n",
    "    string = re.sub('\\ +', ' ', string)\n",
    "    string = re.sub('\\. ', '.', string)\n",
    "    string = re.sub(' \\.', '.', string)\n",
    "    string = re.sub(', ', ',', string)\n",
    "    string = re.sub(' ,', ',', string)\n",
    "    \n",
    "    return string"
   ]
  },
  {
   "cell_type": "markdown",
   "metadata": {},
   "source": [
    "## Функция find_all_links возвращает все ссылки, полученные из html документа"
   ]
  },
  {
   "cell_type": "code",
   "execution_count": 16,
   "metadata": {},
   "outputs": [],
   "source": [
    "def find_all_links(file):\n",
    "    f = open(file)\n",
    "    f = f.read()\n",
    "    soup = BeautifulSoup(f, 'html.parser')\n",
    "    list_links = list()\n",
    "    for key in soup.find_all('a'):\n",
    "        list_links.append(key.get('href'))\n",
    "    return list_links"
   ]
  },
  {
   "cell_type": "markdown",
   "metadata": {},
   "source": [
    "## Функция parse_link принимает на вход ссылку на курс и возращает список умений, приобертаемый пользователем, после освоения этого курса"
   ]
  },
  {
   "cell_type": "code",
   "execution_count": 17,
   "metadata": {},
   "outputs": [],
   "source": [
    "def parse_link(link):\n",
    "    text = list()\n",
    "    f = get_html_page(link)\n",
    "    if not f:\n",
    "        return None\n",
    "    soup = BeautifulSoup(f, 'html.parser')\n",
    "    soup = soup.find('section', attrs={'program block block--default'})\n",
    "    return (link, cleaner(soup.text.lower()))"
   ]
  },
  {
   "cell_type": "markdown",
   "metadata": {},
   "source": [
    "## Функция parse_skill_box принимает на вход ссылки на курсы, и заполняет DataFrame навыками, получаемые после прохождения курсов"
   ]
  },
  {
   "cell_type": "code",
   "execution_count": 18,
   "metadata": {},
   "outputs": [],
   "source": [
    "def parse_skill_box(list_links):\n",
    "    d = list()\n",
    "    k = int()\n",
    "    for link in list_links:\n",
    "        x = parse_link(link)\n",
    "        if x:\n",
    "            d.append(x)\n",
    "        else:\n",
    "            k+=1\n",
    "    return pd.DataFrame(d, columns=('link', 'text'))"
   ]
  },
  {
   "cell_type": "code",
   "execution_count": 20,
   "metadata": {
    "scrolled": false
   },
   "outputs": [],
   "source": [
    "df = parse_skill_box(find_all_links('skillbox.html'))"
   ]
  },
  {
   "cell_type": "code",
   "execution_count": 21,
   "metadata": {},
   "outputs": [
    {
     "data": {
      "text/html": [
       "<div>\n",
       "<style scoped>\n",
       "    .dataframe tbody tr th:only-of-type {\n",
       "        vertical-align: middle;\n",
       "    }\n",
       "\n",
       "    .dataframe tbody tr th {\n",
       "        vertical-align: top;\n",
       "    }\n",
       "\n",
       "    .dataframe thead th {\n",
       "        text-align: right;\n",
       "    }\n",
       "</style>\n",
       "<table border=\"1\" class=\"dataframe\">\n",
       "  <thead>\n",
       "    <tr style=\"text-align: right;\">\n",
       "      <th></th>\n",
       "      <th>link</th>\n",
       "      <th>text</th>\n",
       "    </tr>\n",
       "  </thead>\n",
       "  <tbody>\n",
       "    <tr>\n",
       "      <th>0</th>\n",
       "      <td>https://skillbox.ru/course/profession-graphdes...</td>\n",
       "      <td>программа вас ждут 6 блоков с разным уровнем с...</td>\n",
       "    </tr>\n",
       "    <tr>\n",
       "      <th>1</th>\n",
       "      <td>https://skillbox.ru/course/3d-generalist/</td>\n",
       "      <td>программа вас ждут 7 курсов с разным уровнем с...</td>\n",
       "    </tr>\n",
       "    <tr>\n",
       "      <th>2</th>\n",
       "      <td>https://skillbox.ru/course/profession-marketolog/</td>\n",
       "      <td>программа вас ждут онлайн-лекции и задания,вып...</td>\n",
       "    </tr>\n",
       "    <tr>\n",
       "      <th>3</th>\n",
       "      <td>https://skillbox.ru/course/profession-data-sci...</td>\n",
       "      <td>программа вас ждут 9 курсов,онлайн-лекции и пр...</td>\n",
       "    </tr>\n",
       "    <tr>\n",
       "      <th>4</th>\n",
       "      <td>https://skillbox.ru/course/profession-business...</td>\n",
       "      <td>программа вас ждут онлайн-лекции и практически...</td>\n",
       "    </tr>\n",
       "    <tr>\n",
       "      <th>...</th>\n",
       "      <td>...</td>\n",
       "      <td>...</td>\n",
       "    </tr>\n",
       "    <tr>\n",
       "      <th>157</th>\n",
       "      <td>https://skillbox.ru/course/profession-offline-...</td>\n",
       "      <td>программа вас ждут онлайн-лекции и практически...</td>\n",
       "    </tr>\n",
       "    <tr>\n",
       "      <th>158</th>\n",
       "      <td>https://skillbox.ru/course/profession-hr-busin...</td>\n",
       "      <td>программа вас ждут онлайн-лекции и практически...</td>\n",
       "    </tr>\n",
       "    <tr>\n",
       "      <th>159</th>\n",
       "      <td>https://skillbox.ru/course/profession-sports-j...</td>\n",
       "      <td>программа вас ждут онлайн-лекции и практически...</td>\n",
       "    </tr>\n",
       "    <tr>\n",
       "      <th>160</th>\n",
       "      <td>https://skillbox.ru/course/profession-investme...</td>\n",
       "      <td>программа вас ждут онлайн-лекции и домашние за...</td>\n",
       "    </tr>\n",
       "    <tr>\n",
       "      <th>161</th>\n",
       "      <td>https://skillbox.ru/course/paket-promotion-in-...</td>\n",
       "      <td>программа вас ждут онлайн-лекции и практически...</td>\n",
       "    </tr>\n",
       "  </tbody>\n",
       "</table>\n",
       "<p>162 rows × 2 columns</p>\n",
       "</div>"
      ],
      "text/plain": [
       "                                                  link  \\\n",
       "0    https://skillbox.ru/course/profession-graphdes...   \n",
       "1            https://skillbox.ru/course/3d-generalist/   \n",
       "2    https://skillbox.ru/course/profession-marketolog/   \n",
       "3    https://skillbox.ru/course/profession-data-sci...   \n",
       "4    https://skillbox.ru/course/profession-business...   \n",
       "..                                                 ...   \n",
       "157  https://skillbox.ru/course/profession-offline-...   \n",
       "158  https://skillbox.ru/course/profession-hr-busin...   \n",
       "159  https://skillbox.ru/course/profession-sports-j...   \n",
       "160  https://skillbox.ru/course/profession-investme...   \n",
       "161  https://skillbox.ru/course/paket-promotion-in-...   \n",
       "\n",
       "                                                  text  \n",
       "0    программа вас ждут 6 блоков с разным уровнем с...  \n",
       "1    программа вас ждут 7 курсов с разным уровнем с...  \n",
       "2    программа вас ждут онлайн-лекции и задания,вып...  \n",
       "3    программа вас ждут 9 курсов,онлайн-лекции и пр...  \n",
       "4    программа вас ждут онлайн-лекции и практически...  \n",
       "..                                                 ...  \n",
       "157  программа вас ждут онлайн-лекции и практически...  \n",
       "158  программа вас ждут онлайн-лекции и практически...  \n",
       "159  программа вас ждут онлайн-лекции и практически...  \n",
       "160  программа вас ждут онлайн-лекции и домашние за...  \n",
       "161  программа вас ждут онлайн-лекции и практически...  \n",
       "\n",
       "[162 rows x 2 columns]"
      ]
     },
     "execution_count": 21,
     "metadata": {},
     "output_type": "execute_result"
    }
   ],
   "source": [
    "df"
   ]
  },
  {
   "cell_type": "markdown",
   "metadata": {},
   "source": [
    "### Сохраняем полученные данные"
   ]
  },
  {
   "cell_type": "code",
   "execution_count": 22,
   "metadata": {},
   "outputs": [
    {
     "ename": "FileNotFoundError",
     "evalue": "[Errno 2] No such file or directory: '../Data/skillbox.csv'",
     "output_type": "error",
     "traceback": [
      "\u001b[0;31m---------------------------------------------------------------------------\u001b[0m",
      "\u001b[0;31mFileNotFoundError\u001b[0m                         Traceback (most recent call last)",
      "\u001b[0;32m<ipython-input-22-37a604584d91>\u001b[0m in \u001b[0;36m<module>\u001b[0;34m\u001b[0m\n\u001b[0;32m----> 1\u001b[0;31m \u001b[0mdf\u001b[0m\u001b[0;34m.\u001b[0m\u001b[0mto_csv\u001b[0m\u001b[0;34m(\u001b[0m\u001b[0;34m'../Data/skillbox.csv'\u001b[0m\u001b[0;34m)\u001b[0m\u001b[0;34m\u001b[0m\u001b[0;34m\u001b[0m\u001b[0m\n\u001b[0m",
      "\u001b[0;32m~/.local/lib/python3.6/site-packages/pandas/core/generic.py\u001b[0m in \u001b[0;36mto_csv\u001b[0;34m(self, path_or_buf, sep, na_rep, float_format, columns, header, index, index_label, mode, encoding, compression, quoting, quotechar, line_terminator, chunksize, date_format, doublequote, escapechar, decimal, errors)\u001b[0m\n\u001b[1;32m   3165\u001b[0m             \u001b[0mdecimal\u001b[0m\u001b[0;34m=\u001b[0m\u001b[0mdecimal\u001b[0m\u001b[0;34m,\u001b[0m\u001b[0;34m\u001b[0m\u001b[0;34m\u001b[0m\u001b[0m\n\u001b[1;32m   3166\u001b[0m         )\n\u001b[0;32m-> 3167\u001b[0;31m         \u001b[0mformatter\u001b[0m\u001b[0;34m.\u001b[0m\u001b[0msave\u001b[0m\u001b[0;34m(\u001b[0m\u001b[0;34m)\u001b[0m\u001b[0;34m\u001b[0m\u001b[0;34m\u001b[0m\u001b[0m\n\u001b[0m\u001b[1;32m   3168\u001b[0m \u001b[0;34m\u001b[0m\u001b[0m\n\u001b[1;32m   3169\u001b[0m         \u001b[0;32mif\u001b[0m \u001b[0mpath_or_buf\u001b[0m \u001b[0;32mis\u001b[0m \u001b[0;32mNone\u001b[0m\u001b[0;34m:\u001b[0m\u001b[0;34m\u001b[0m\u001b[0;34m\u001b[0m\u001b[0m\n",
      "\u001b[0;32m~/.local/lib/python3.6/site-packages/pandas/io/formats/csvs.py\u001b[0m in \u001b[0;36msave\u001b[0;34m(self)\u001b[0m\n\u001b[1;32m    188\u001b[0m                 \u001b[0mencoding\u001b[0m\u001b[0;34m=\u001b[0m\u001b[0mself\u001b[0m\u001b[0;34m.\u001b[0m\u001b[0mencoding\u001b[0m\u001b[0;34m,\u001b[0m\u001b[0;34m\u001b[0m\u001b[0;34m\u001b[0m\u001b[0m\n\u001b[1;32m    189\u001b[0m                 \u001b[0merrors\u001b[0m\u001b[0;34m=\u001b[0m\u001b[0mself\u001b[0m\u001b[0;34m.\u001b[0m\u001b[0merrors\u001b[0m\u001b[0;34m,\u001b[0m\u001b[0;34m\u001b[0m\u001b[0;34m\u001b[0m\u001b[0m\n\u001b[0;32m--> 190\u001b[0;31m                 \u001b[0mcompression\u001b[0m\u001b[0;34m=\u001b[0m\u001b[0mdict\u001b[0m\u001b[0;34m(\u001b[0m\u001b[0mself\u001b[0m\u001b[0;34m.\u001b[0m\u001b[0mcompression_args\u001b[0m\u001b[0;34m,\u001b[0m \u001b[0mmethod\u001b[0m\u001b[0;34m=\u001b[0m\u001b[0mself\u001b[0m\u001b[0;34m.\u001b[0m\u001b[0mcompression\u001b[0m\u001b[0;34m)\u001b[0m\u001b[0;34m,\u001b[0m\u001b[0;34m\u001b[0m\u001b[0;34m\u001b[0m\u001b[0m\n\u001b[0m\u001b[1;32m    191\u001b[0m             )\n\u001b[1;32m    192\u001b[0m             \u001b[0mclose\u001b[0m \u001b[0;34m=\u001b[0m \u001b[0;32mTrue\u001b[0m\u001b[0;34m\u001b[0m\u001b[0;34m\u001b[0m\u001b[0m\n",
      "\u001b[0;32m~/.local/lib/python3.6/site-packages/pandas/io/common.py\u001b[0m in \u001b[0;36mget_handle\u001b[0;34m(path_or_buf, mode, encoding, compression, memory_map, is_text, errors)\u001b[0m\n\u001b[1;32m    491\u001b[0m         \u001b[0;32mif\u001b[0m \u001b[0mencoding\u001b[0m\u001b[0;34m:\u001b[0m\u001b[0;34m\u001b[0m\u001b[0;34m\u001b[0m\u001b[0m\n\u001b[1;32m    492\u001b[0m             \u001b[0;31m# Encoding\u001b[0m\u001b[0;34m\u001b[0m\u001b[0;34m\u001b[0m\u001b[0;34m\u001b[0m\u001b[0m\n\u001b[0;32m--> 493\u001b[0;31m             \u001b[0mf\u001b[0m \u001b[0;34m=\u001b[0m \u001b[0mopen\u001b[0m\u001b[0;34m(\u001b[0m\u001b[0mpath_or_buf\u001b[0m\u001b[0;34m,\u001b[0m \u001b[0mmode\u001b[0m\u001b[0;34m,\u001b[0m \u001b[0mencoding\u001b[0m\u001b[0;34m=\u001b[0m\u001b[0mencoding\u001b[0m\u001b[0;34m,\u001b[0m \u001b[0merrors\u001b[0m\u001b[0;34m=\u001b[0m\u001b[0merrors\u001b[0m\u001b[0;34m,\u001b[0m \u001b[0mnewline\u001b[0m\u001b[0;34m=\u001b[0m\u001b[0;34m\"\"\u001b[0m\u001b[0;34m)\u001b[0m\u001b[0;34m\u001b[0m\u001b[0;34m\u001b[0m\u001b[0m\n\u001b[0m\u001b[1;32m    494\u001b[0m         \u001b[0;32melif\u001b[0m \u001b[0mis_text\u001b[0m\u001b[0;34m:\u001b[0m\u001b[0;34m\u001b[0m\u001b[0;34m\u001b[0m\u001b[0m\n\u001b[1;32m    495\u001b[0m             \u001b[0;31m# No explicit encoding\u001b[0m\u001b[0;34m\u001b[0m\u001b[0;34m\u001b[0m\u001b[0;34m\u001b[0m\u001b[0m\n",
      "\u001b[0;31mFileNotFoundError\u001b[0m: [Errno 2] No such file or directory: '../Data/skillbox.csv'"
     ]
    }
   ],
   "source": [
    "df.to_csv('../Data/skillbox.csv')"
   ]
  },
  {
   "cell_type": "code",
   "execution_count": null,
   "metadata": {},
   "outputs": [],
   "source": []
  }
 ],
 "metadata": {
  "kernelspec": {
   "display_name": "Python 3",
   "language": "python",
   "name": "python3"
  },
  "language_info": {
   "codemirror_mode": {
    "name": "ipython",
    "version": 3
   },
   "file_extension": ".py",
   "mimetype": "text/x-python",
   "name": "python",
   "nbconvert_exporter": "python",
   "pygments_lexer": "ipython3",
   "version": "3.6.9"
  }
 },
 "nbformat": 4,
 "nbformat_minor": 5
}
