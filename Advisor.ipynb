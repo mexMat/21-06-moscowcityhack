{
 "cells": [
  {
   "cell_type": "code",
   "execution_count": 1,
   "metadata": {},
   "outputs": [],
   "source": [
    "import pandas as pd\n",
    "import numpy as np\n",
    "import matplotlib.pyplot as plt\n",
    "\n",
    "import pickle\n",
    "import requests\n",
    "import json\n",
    "import re\n",
    "from collections import defaultdict"
   ]
  },
  {
   "cell_type": "markdown",
   "metadata": {},
   "source": [
    "# Define Advisor class:"
   ]
  },
  {
   "cell_type": "code",
   "execution_count": 2,
   "metadata": {},
   "outputs": [],
   "source": [
    "class Advisor():\n",
    "    \"\"\" \n",
    "        Class to help a client:\n",
    "        1. To choose a proper professional direction;\n",
    "        2. To get a stack of necessary skills to have for chosen direction;\n",
    "        3. To recommend courses to master;\n",
    "    \"\"\"\n",
    "    \n",
    "    def __init__(self):\n",
    "        pass\n",
    "    \n",
    "    def _parse_skills(self, skills_raw):\n",
    "        \"\"\" List of dicts to the list of skills \"\"\"\n",
    "        \n",
    "        key_skills = list()\n",
    "        skills_list = re.findall(r'\\'.*?\\'', skills_raw)\n",
    "        for skill in skills_list:\n",
    "            if skill != \"'name'\":\n",
    "                key_skills.append(skill[1:-1].lower())\n",
    "        return key_skills\n",
    "    \n",
    "    def _generate_dict(self, a):\n",
    "        \"\"\" Get a dict of all the skills \"\"\"\n",
    "        \n",
    "        d = defaultdict(int)\n",
    "        for i in range(len(a)):\n",
    "            for j in a['key_skills'][i]:\n",
    "                d[j.lower()] += 1\n",
    "        return d\n",
    "\n",
    "    def _sort_dict(self, a):\n",
    "        \"\"\" Sort a dictionary by values \"\"\"\n",
    "    \n",
    "        list_d = list(a.items())\n",
    "        list_d.sort(key=lambda i:i[1])\n",
    "        list_d = list_d[::-1]\n",
    "        return dict(list_d)\n",
    "\n",
    "    def _crop_dict(self, dict_y, threshold=10):\n",
    "        \"\"\" Leave only skills that frequently occur in the data \"\"\"\n",
    "        \n",
    "        res_dict = dict()\n",
    "        for i in dict_y.items():\n",
    "            if i[1] > threshold:\n",
    "                res_dict[i[0]] = i[1]\n",
    "        return res_dict       \n",
    "    \n",
    "    def add_vacancies(self, path, threshold=10):\n",
    "        \"\"\" \n",
    "            Add vacancies to the system.\n",
    "            Input:\n",
    "                - \"path\": where is vacancies data file;\n",
    "                - \"threshold\": crop those skills that occur less than threshold\n",
    "                times in the data;\n",
    "        \"\"\"\n",
    "        \n",
    "        data = pd.read_csv(path)\n",
    "        \n",
    "        # Drop duplicates:\n",
    "        data = data[data.duplicated('idx') == False]\n",
    "        data.reset_index(inplace=True)\n",
    "        data.drop('index', axis=1, inplace=True)\n",
    "        data['key_skills'] = data['key_skills'].apply(lambda x: self._parse_skills(x))\n",
    "        self.data_vacancies = data\n",
    "        \n",
    "        # Get sorted skills dictionary:\n",
    "        dict_skills = self._generate_dict(data)\n",
    "        dict_skills = self._sort_dict(dict_skills)\n",
    "        \n",
    "        # Get main skills:\n",
    "        self.dict_skills_main = self._crop_dict(dict_skills, threshold)\n",
    "        \n",
    "        self.skills_list = list(self.dict_skills_main)\n",
    "        \n",
    "        self.skill_name_to_index = {self.skills_list[i] : i for i in range(len(self.skills_list))}\n",
    "        \n",
    "        # Generate a matrix: vacancies x skills\n",
    "        self.vacancies_mtx = np.zeros(shape=(data.shape[0], len(self.dict_skills_main)), dtype=np.float32)\n",
    "        for i in range(data.shape[0]):\n",
    "            for j in data.iloc[i][\"key_skills\"]:\n",
    "                try:\n",
    "                    self.vacancies_mtx [i, self.skill_name_to_index[j]] = dict_skills[j]\n",
    "                except KeyError as e:\n",
    "                    continue\n",
    "                    \n",
    "    def get_profession(self, client, show_score=False):\n",
    "        \"\"\" \n",
    "            Get profession list that fit your profile best.\n",
    "            Input:\n",
    "                - \"client\": a client vector coprised of his skills;\n",
    "                - \"show_score\": show how probable a particular\n",
    "                profession is for you;\n",
    "            Output:\n",
    "                - a list of strings representing professional paths;\n",
    "        \"\"\"\n",
    "        \n",
    "        how_many = 10\n",
    "        result = self.vacancies_mtx @ client\n",
    "        self.indices_vacances_sorted = result.argsort()[::-1]\n",
    "        bad_dict = (self.data_vacancies.iloc\\\n",
    "                    [self.indices_vacances_sorted[:how_many]]['profession']).to_dict()\n",
    "        self.good_dict = {bad_dict[i] : i for i in bad_dict.keys()}\n",
    "        \n",
    "        if show_score:\n",
    "            idx = list(self.good_dict.values())\n",
    "            \n",
    "            prob = result / np.sum(result[idx])\n",
    "            prob_dict = {i[0]: prob[i[1]] for i in self.good_dict.items()}\n",
    "            print(prob_dict)\n",
    "        \n",
    "        return list(self.good_dict.keys())\n",
    "        \n",
    "    def add_courses(self, data_courses):\n",
    "        \"\"\" \n",
    "            Add courses to the system.\n",
    "            Input:\n",
    "                - \"data_courses\": Dataframe of courses and skills;\n",
    "        \"\"\"\n",
    "        \n",
    "        link_courses = dict()\n",
    "        for i in data_courses.index:\n",
    "            temp = data_courses.iloc[i]\n",
    "            link_courses[temp[\"link\"]] = temp['text']\n",
    "    \n",
    "        for i in link_courses.items():\n",
    "            link_courses[i[0]] = []\n",
    "            for j in self.skills_list:\n",
    "                if j in i[1].lower():\n",
    "                    link_courses[i[0]].append(j) \n",
    "        \n",
    "        self.link_courses = link_courses \n",
    "        \n",
    "        full_skills = [i[0] for i in link_courses.items() if i[1] != []]\n",
    "        self.link_to_skills = pd.Series(link_courses)[full_skills]\n",
    "        \n",
    "        # Generate a matrix: vacancies x skills\n",
    "        self.courses_mtx = np.zeros(\n",
    "            shape=(self.link_to_skills.size, len(self.dict_skills_main)),\n",
    "            dtype=np.float32,\n",
    "        )\n",
    "        \n",
    "        for i, item in enumerate(self.link_to_skills.items()):\n",
    "            for j in self.link_to_skills[item[0]]:\n",
    "                try:\n",
    "                    self.courses_mtx[i, self.skill_name_to_index[j]] = 1\n",
    "                except KeyError as e:\n",
    "                    continue\n",
    "                    \n",
    "    def get_course(self, direction, how_many=1, show_score=False):\n",
    "        \"\"\" \n",
    "            Get courses links list that best fit your chosen direction.\n",
    "            Input:\n",
    "                - \"direction\": a string representing what direction a client chose;\n",
    "                - \"how_many\": how many courses to show?;\n",
    "                - \"show_score\": show how probable a particular\n",
    "                course is for you;\n",
    "            Output:\n",
    "                - a list of strings representing courses links;\n",
    "        \"\"\"\n",
    "        \n",
    "        try:\n",
    "            self.diff = ((self.vacancies_mtx[self.good_dict[direction]] - client) > 0).astype(float)\n",
    "        except KeyError as ke:\n",
    "            print(f\" Do not have that: {ke} - key;\")\n",
    "            return \n",
    "        \n",
    "        result = self.courses_mtx @ self.diff.T\n",
    "        self.indices_courses_sorted = result.argsort()[::-1]\n",
    "        if show_score:\n",
    "            idx = self.indices_courses_sorted[:how_many]\n",
    "            prob = result[idx] / np.sum(result[idx])\n",
    "            print(prob)\n",
    "            \n",
    "        return list(self.link_to_skills.iloc[self.indices_courses_sorted[:how_many]].keys())\n",
    "    \n",
    "    def get_skills(self, direction, know):\n",
    "        \"\"\" \n",
    "            Get skills list that you need to master.\n",
    "            Input:\n",
    "                - \"direction\": a string representing what direction a client chose;\n",
    "                - \"know\": a list of skills that client pointed out;\n",
    "            Output:\n",
    "                - a list of strings representing skills;\n",
    "        \"\"\"\n",
    "        \n",
    "        set_know = set(know)\n",
    "        try:\n",
    "            set_job = set(self.data_vacancies.iloc[list(self.good_dict.values())]\\\n",
    "                          ['key_skills'][self.good_dict[direction]])\n",
    "        except KeyError as ke:\n",
    "            print(f\" Do not have that: {ke} - key;\")\n",
    "            return    \n",
    "        \n",
    "        return list(set_job.difference(set_know))"
   ]
  },
  {
   "cell_type": "markdown",
   "metadata": {},
   "source": [
    "# Load Vacancies:"
   ]
  },
  {
   "cell_type": "code",
   "execution_count": 3,
   "metadata": {},
   "outputs": [],
   "source": [
    "advisor = Advisor()"
   ]
  },
  {
   "cell_type": "code",
   "execution_count": 4,
   "metadata": {},
   "outputs": [],
   "source": [
    "path_data = \"Data/\""
   ]
  },
  {
   "cell_type": "code",
   "execution_count": 5,
   "metadata": {},
   "outputs": [],
   "source": [
    "freq_skills_threshold = 10 # to throw away the rare skills from the system\n",
    "advisor.add_vacancies(path_data + 'modified_data_hh.csv', freq_skills_threshold)"
   ]
  },
  {
   "cell_type": "markdown",
   "metadata": {},
   "source": [
    "# Load Courses:"
   ]
  },
  {
   "cell_type": "markdown",
   "metadata": {},
   "source": [
    "### Netology:"
   ]
  },
  {
   "cell_type": "code",
   "execution_count": 6,
   "metadata": {},
   "outputs": [
    {
     "data": {
      "text/html": [
       "<div>\n",
       "<style scoped>\n",
       "    .dataframe tbody tr th:only-of-type {\n",
       "        vertical-align: middle;\n",
       "    }\n",
       "\n",
       "    .dataframe tbody tr th {\n",
       "        vertical-align: top;\n",
       "    }\n",
       "\n",
       "    .dataframe thead th {\n",
       "        text-align: right;\n",
       "    }\n",
       "</style>\n",
       "<table border=\"1\" class=\"dataframe\">\n",
       "  <thead>\n",
       "    <tr style=\"text-align: right;\">\n",
       "      <th></th>\n",
       "      <th>link</th>\n",
       "      <th>text</th>\n",
       "    </tr>\n",
       "  </thead>\n",
       "  <tbody>\n",
       "    <tr>\n",
       "      <td>0</td>\n",
       "      <td>https://netology.ru/programs/qa-middle</td>\n",
       "      <td>[]['Кроссбраузерная верстка HTML и CSS', 'Верс...</td>\n",
       "    </tr>\n",
       "    <tr>\n",
       "      <td>1</td>\n",
       "      <td>https://netology.ru/programs/qa</td>\n",
       "      <td>[]['Кроссбраузерная верстка HTML и CSS', 'Верс...</td>\n",
       "    </tr>\n",
       "    <tr>\n",
       "      <td>2</td>\n",
       "      <td>https://netology.ru/programs/python</td>\n",
       "      <td>[]['Работа с данными на Python', 'Создание веб...</td>\n",
       "    </tr>\n",
       "  </tbody>\n",
       "</table>\n",
       "</div>"
      ],
      "text/plain": [
       "                                     link  \\\n",
       "0  https://netology.ru/programs/qa-middle   \n",
       "1         https://netology.ru/programs/qa   \n",
       "2     https://netology.ru/programs/python   \n",
       "\n",
       "                                                text  \n",
       "0  []['Кроссбраузерная верстка HTML и CSS', 'Верс...  \n",
       "1  []['Кроссбраузерная верстка HTML и CSS', 'Верс...  \n",
       "2  []['Работа с данными на Python', 'Создание веб...  "
      ]
     },
     "execution_count": 6,
     "metadata": {},
     "output_type": "execute_result"
    }
   ],
   "source": [
    "data_courses_netology = pd.read_csv(path_data + 'raw_netology.csv')\n",
    "data_courses_netology = data_courses_netology.rename(columns={\"url_for_user\": \"link\"})\n",
    "data_courses_netology['text'] = data_courses_netology[\"blocks\"] + data_courses_netology[\"skills\"]\n",
    "data_courses_netology = data_courses_netology.drop(columns=[\"blocks\", \"skills\"])\n",
    "data_courses_netology.head(3)"
   ]
  },
  {
   "cell_type": "markdown",
   "metadata": {},
   "source": [
    "### Skillbox:"
   ]
  },
  {
   "cell_type": "code",
   "execution_count": 7,
   "metadata": {},
   "outputs": [
    {
     "data": {
      "text/html": [
       "<div>\n",
       "<style scoped>\n",
       "    .dataframe tbody tr th:only-of-type {\n",
       "        vertical-align: middle;\n",
       "    }\n",
       "\n",
       "    .dataframe tbody tr th {\n",
       "        vertical-align: top;\n",
       "    }\n",
       "\n",
       "    .dataframe thead th {\n",
       "        text-align: right;\n",
       "    }\n",
       "</style>\n",
       "<table border=\"1\" class=\"dataframe\">\n",
       "  <thead>\n",
       "    <tr style=\"text-align: right;\">\n",
       "      <th></th>\n",
       "      <th>link</th>\n",
       "      <th>text</th>\n",
       "    </tr>\n",
       "  </thead>\n",
       "  <tbody>\n",
       "    <tr>\n",
       "      <td>0</td>\n",
       "      <td>https://skillbox.ru/course/profession-graphdes...</td>\n",
       "      <td>программа вас ждут 6 блоков с разным уровнем с...</td>\n",
       "    </tr>\n",
       "    <tr>\n",
       "      <td>1</td>\n",
       "      <td>https://skillbox.ru/course/profession-marketolog/</td>\n",
       "      <td>программа вас ждут онлайн-лекции и задания,вып...</td>\n",
       "    </tr>\n",
       "    <tr>\n",
       "      <td>2</td>\n",
       "      <td>https://skillbox.ru/course/profession-data-sci...</td>\n",
       "      <td>программа вас ждут 9 курсов,онлайн-лекции и пр...</td>\n",
       "    </tr>\n",
       "  </tbody>\n",
       "</table>\n",
       "</div>"
      ],
      "text/plain": [
       "                                                link  \\\n",
       "0  https://skillbox.ru/course/profession-graphdes...   \n",
       "1  https://skillbox.ru/course/profession-marketolog/   \n",
       "2  https://skillbox.ru/course/profession-data-sci...   \n",
       "\n",
       "                                                text  \n",
       "0  программа вас ждут 6 блоков с разным уровнем с...  \n",
       "1  программа вас ждут онлайн-лекции и задания,вып...  \n",
       "2  программа вас ждут 9 курсов,онлайн-лекции и пр...  "
      ]
     },
     "execution_count": 7,
     "metadata": {},
     "output_type": "execute_result"
    }
   ],
   "source": [
    "data_courses_skillbox = pd.read_csv(path_data + 'skillbox.csv')\n",
    "data_courses_skillbox = data_courses_skillbox[[\"link\", \"text\"]]\n",
    "data_courses_skillbox.head(3)"
   ]
  },
  {
   "cell_type": "markdown",
   "metadata": {},
   "source": [
    "### Stepik:"
   ]
  },
  {
   "cell_type": "code",
   "execution_count": 8,
   "metadata": {},
   "outputs": [
    {
     "data": {
      "text/html": [
       "<div>\n",
       "<style scoped>\n",
       "    .dataframe tbody tr th:only-of-type {\n",
       "        vertical-align: middle;\n",
       "    }\n",
       "\n",
       "    .dataframe tbody tr th {\n",
       "        vertical-align: top;\n",
       "    }\n",
       "\n",
       "    .dataframe thead th {\n",
       "        text-align: right;\n",
       "    }\n",
       "</style>\n",
       "<table border=\"1\" class=\"dataframe\">\n",
       "  <thead>\n",
       "    <tr style=\"text-align: right;\">\n",
       "      <th></th>\n",
       "      <th>link</th>\n",
       "      <th>text</th>\n",
       "    </tr>\n",
       "  </thead>\n",
       "  <tbody>\n",
       "    <tr>\n",
       "      <td>0</td>\n",
       "      <td>https://stepik.org/course/99080/promo</td>\n",
       "      <td>Download any course Open app or continue in a ...</td>\n",
       "    </tr>\n",
       "    <tr>\n",
       "      <td>1</td>\n",
       "      <td>https://stepik.org/course/99069/promo</td>\n",
       "      <td>Download any course Open app or continue in a ...</td>\n",
       "    </tr>\n",
       "    <tr>\n",
       "      <td>2</td>\n",
       "      <td>https://stepik.org/course/99066/promo</td>\n",
       "      <td>Download any course Open app or continue in a ...</td>\n",
       "    </tr>\n",
       "  </tbody>\n",
       "</table>\n",
       "</div>"
      ],
      "text/plain": [
       "                                    link  \\\n",
       "0  https://stepik.org/course/99080/promo   \n",
       "1  https://stepik.org/course/99069/promo   \n",
       "2  https://stepik.org/course/99066/promo   \n",
       "\n",
       "                                                text  \n",
       "0  Download any course Open app or continue in a ...  \n",
       "1  Download any course Open app or continue in a ...  \n",
       "2  Download any course Open app or continue in a ...  "
      ]
     },
     "execution_count": 8,
     "metadata": {},
     "output_type": "execute_result"
    }
   ],
   "source": [
    "data_courses_stepik = pd.read_csv(path_data + 'stepik_data.csv')\n",
    "data_courses_stepik = data_courses_stepik.rename(columns={\"url\": \"link\"})\n",
    "data_courses_stepik = data_courses_stepik[[\"link\", 'text']]\n",
    "data_courses_stepik.head(3)"
   ]
  },
  {
   "cell_type": "markdown",
   "metadata": {},
   "source": [
    "### Coursera:"
   ]
  },
  {
   "cell_type": "code",
   "execution_count": 9,
   "metadata": {},
   "outputs": [
    {
     "data": {
      "text/html": [
       "<div>\n",
       "<style scoped>\n",
       "    .dataframe tbody tr th:only-of-type {\n",
       "        vertical-align: middle;\n",
       "    }\n",
       "\n",
       "    .dataframe tbody tr th {\n",
       "        vertical-align: top;\n",
       "    }\n",
       "\n",
       "    .dataframe thead th {\n",
       "        text-align: right;\n",
       "    }\n",
       "</style>\n",
       "<table border=\"1\" class=\"dataframe\">\n",
       "  <thead>\n",
       "    <tr style=\"text-align: right;\">\n",
       "      <th></th>\n",
       "      <th>link</th>\n",
       "      <th>text</th>\n",
       "    </tr>\n",
       "  </thead>\n",
       "  <tbody>\n",
       "    <tr>\n",
       "      <td>0</td>\n",
       "      <td>https://ru.coursera.org/specializations/academ...</td>\n",
       "      <td>['punctuation', 'essay writing', 'academic wri...</td>\n",
       "    </tr>\n",
       "    <tr>\n",
       "      <td>1</td>\n",
       "      <td>https://ru.coursera.org/professional-certifica...</td>\n",
       "      <td>['efl', 'english language', 'tesol', 'esl', 'e...</td>\n",
       "    </tr>\n",
       "    <tr>\n",
       "      <td>2</td>\n",
       "      <td>https://ru.coursera.org/learn/learning-how-to-...</td>\n",
       "      <td>['test preparation', 'learning to learn', 'pom...</td>\n",
       "    </tr>\n",
       "  </tbody>\n",
       "</table>\n",
       "</div>"
      ],
      "text/plain": [
       "                                                link  \\\n",
       "0  https://ru.coursera.org/specializations/academ...   \n",
       "1  https://ru.coursera.org/professional-certifica...   \n",
       "2  https://ru.coursera.org/learn/learning-how-to-...   \n",
       "\n",
       "                                                text  \n",
       "0  ['punctuation', 'essay writing', 'academic wri...  \n",
       "1  ['efl', 'english language', 'tesol', 'esl', 'e...  \n",
       "2  ['test preparation', 'learning to learn', 'pom...  "
      ]
     },
     "execution_count": 9,
     "metadata": {},
     "output_type": "execute_result"
    }
   ],
   "source": [
    "data_courses_coursera = pd.read_csv(path_data + 'Coursera_data.csv')\n",
    "data_courses_coursera = data_courses_coursera.rename(\n",
    "    columns={\"link_to_course\": \"link\", \"skills\": \"text\"}\n",
    ")\n",
    "data_courses_coursera = data_courses_coursera[[\"link\", 'text']]\n",
    "data_courses_coursera.head(3)"
   ]
  },
  {
   "cell_type": "markdown",
   "metadata": {},
   "source": [
    "# Add courses to Advisor:"
   ]
  },
  {
   "cell_type": "code",
   "execution_count": 10,
   "metadata": {},
   "outputs": [],
   "source": [
    "data_courses = pd.concat(\n",
    "    [\n",
    "        data_courses_netology,\n",
    "        data_courses_skillbox,\n",
    "        data_courses_stepik,\n",
    "        data_courses_coursera\n",
    "    ],\n",
    "    ignore_index=True\n",
    ")"
   ]
  },
  {
   "cell_type": "code",
   "execution_count": 11,
   "metadata": {},
   "outputs": [],
   "source": [
    "advisor.add_courses(data_courses)"
   ]
  },
  {
   "cell_type": "markdown",
   "metadata": {},
   "source": [
    "# Model a Client:"
   ]
  },
  {
   "cell_type": "markdown",
   "metadata": {},
   "source": [
    "#### $\\color{red}{\\text{Change this -->>}}$"
   ]
  },
  {
   "cell_type": "code",
   "execution_count": 12,
   "metadata": {},
   "outputs": [
    {
     "data": {
      "text/plain": [
       "['sql',\n",
       " 'английский язык',\n",
       " 'linux',\n",
       " 'управление проектами',\n",
       " 'git',\n",
       " 'работа в команде',\n",
       " 'python',\n",
       " 'javascript',\n",
       " 'ms sql',\n",
       " 'atlassian jira']"
      ]
     },
     "execution_count": 12,
     "metadata": {},
     "output_type": "execute_result"
    }
   ],
   "source": [
    "# Look through the skills to put them to \"know\"\n",
    "advisor.skills_list[:10]"
   ]
  },
  {
   "cell_type": "markdown",
   "metadata": {},
   "source": [
    "#### $\\color{red}{\\text{Change this -->>}}$"
   ]
  },
  {
   "cell_type": "code",
   "execution_count": 13,
   "metadata": {},
   "outputs": [],
   "source": [
    "# What skills do you have? (6 is enough!)\n",
    "\n",
    "know = ['unity', 'git', 'it', 'linux', '3d', 'c']"
   ]
  },
  {
   "cell_type": "code",
   "execution_count": 14,
   "metadata": {},
   "outputs": [],
   "source": [
    "client = np.zeros(len(advisor.dict_skills_main)).astype(np.float32)\n",
    "know_inx = [advisor.skill_name_to_index[i] for i in know]\n",
    "client[know_inx] = 1"
   ]
  },
  {
   "cell_type": "markdown",
   "metadata": {},
   "source": [
    "# Get direction (profession):"
   ]
  },
  {
   "cell_type": "markdown",
   "metadata": {},
   "source": [
    "#### $\\color{green}{\\text{Change \"show_score\": True/False}}$"
   ]
  },
  {
   "cell_type": "code",
   "execution_count": 15,
   "metadata": {},
   "outputs": [
    {
     "data": {
      "text/plain": [
       "['Игровое ПО',\n",
       " 'Аналитик',\n",
       " 'Начальный уровень, Мало опыта',\n",
       " 'Тестирование',\n",
       " 'Web инженер',\n",
       " 'Инженер',\n",
       " 'Программирование, Разработка',\n",
       " 'Сетевые технологии']"
      ]
     },
     "execution_count": 15,
     "metadata": {},
     "output_type": "execute_result"
    }
   ],
   "source": [
    "advisor.get_profession(client, show_score=False)"
   ]
  },
  {
   "cell_type": "markdown",
   "metadata": {},
   "source": [
    "#### $\\color{red}{\\text{Change this -->>}}$"
   ]
  },
  {
   "cell_type": "code",
   "execution_count": 16,
   "metadata": {},
   "outputs": [],
   "source": [
    "# What direction do you want to follow? (Choose from the list above)\n",
    "\n",
    "chosen = 'Аналитик'"
   ]
  },
  {
   "cell_type": "markdown",
   "metadata": {},
   "source": [
    "# Get necessary skills:"
   ]
  },
  {
   "cell_type": "code",
   "execution_count": 17,
   "metadata": {},
   "outputs": [
    {
     "data": {
      "text/plain": [
       "['python',\n",
       " 'ml',\n",
       " 'sql',\n",
       " 'machine learning',\n",
       " 'торговая площадка',\n",
       " 'nlp',\n",
       " 'аналитическое мышление']"
      ]
     },
     "execution_count": 17,
     "metadata": {},
     "output_type": "execute_result"
    }
   ],
   "source": [
    "# The skills you need to master either for the chosen direction\n",
    "advisor.get_skills(chosen, know)"
   ]
  },
  {
   "cell_type": "markdown",
   "metadata": {},
   "source": [
    "# Get courses:"
   ]
  },
  {
   "cell_type": "markdown",
   "metadata": {},
   "source": [
    "#### $\\color{green}{\\text{Change \"show_score\": True/False; \"how_many\": 1->20}}$"
   ]
  },
  {
   "cell_type": "code",
   "execution_count": 18,
   "metadata": {},
   "outputs": [
    {
     "data": {
      "text/plain": [
       "['https://skillbox.ru/course/profession-data-scientist/',\n",
       " 'https://skillbox.ru/course/profession-machine-learning/',\n",
       " 'https://skillbox.ru/course/profession-python/',\n",
       " 'https://skillbox.ru/course/profession-fullstack-python/',\n",
       " 'https://stepik.org/course/154/promo',\n",
       " 'https://skillbox.ru/course/profession-cybersecurity/',\n",
       " 'https://skillbox.ru/course/java-dev/',\n",
       " 'https://skillbox.ru/course/profession-webdev/',\n",
       " 'https://ru.coursera.org/specializations/python',\n",
       " 'https://skillbox.ru/course/profession-test/']"
      ]
     },
     "execution_count": 18,
     "metadata": {},
     "output_type": "execute_result"
    }
   ],
   "source": [
    "# The valid links to courses\n",
    "advisor.get_course(chosen, how_many=10, show_score=False)"
   ]
  }
 ],
 "metadata": {
  "kernelspec": {
   "display_name": "Python 3",
   "language": "python",
   "name": "python3"
  },
  "language_info": {
   "codemirror_mode": {
    "name": "ipython",
    "version": 3
   },
   "file_extension": ".py",
   "mimetype": "text/x-python",
   "name": "python",
   "nbconvert_exporter": "python",
   "pygments_lexer": "ipython3",
   "version": "3.7.4"
  }
 },
 "nbformat": 4,
 "nbformat_minor": 4
}
